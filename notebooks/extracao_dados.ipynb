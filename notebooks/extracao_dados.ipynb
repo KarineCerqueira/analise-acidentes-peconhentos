{
 "cells": [
  {
   "cell_type": "markdown",
   "metadata": {},
   "source": [
    "Importar e carregar os dados do SINAN"
   ]
  },
  {
   "cell_type": "code",
   "execution_count": null,
   "metadata": {},
   "outputs": [],
   "source": [
    "from pysus.ftp.databases.sinan import SINAN \n",
    "sinan = SINAN().load()"
   ]
  },
  {
   "cell_type": "markdown",
   "metadata": {},
   "source": [
    "Obter todos os arquivos de animais peçonhentos disponíveis"
   ]
  },
  {
   "cell_type": "code",
   "execution_count": 3,
   "metadata": {},
   "outputs": [],
   "source": [
    "files = sinan.get_files(dis_code=\"ANIM\")"
   ]
  },
  {
   "cell_type": "markdown",
   "metadata": {},
   "source": [
    "Baixa os arquivos e salva na pasta 'data'"
   ]
  },
  {
   "cell_type": "code",
   "execution_count": 6,
   "metadata": {},
   "outputs": [
    {
     "name": "stdout",
     "output_type": "stream",
     "text": [
      "Arquivo ../data/animais_peconhentos_07.csv salvo com sucesso.\n",
      "Arquivo ../data/animais_peconhentos_08.csv salvo com sucesso.\n",
      "Arquivo ../data/animais_peconhentos_09.csv salvo com sucesso.\n",
      "Arquivo ../data/animais_peconhentos_10.csv salvo com sucesso.\n",
      "Arquivo ../data/animais_peconhentos_11.csv salvo com sucesso.\n",
      "Arquivo ../data/animais_peconhentos_12.csv salvo com sucesso.\n",
      "Arquivo ../data/animais_peconhentos_13.csv salvo com sucesso.\n",
      "Arquivo ../data/animais_peconhentos_14.csv salvo com sucesso.\n",
      "Arquivo ../data/animais_peconhentos_15.csv salvo com sucesso.\n",
      "Arquivo ../data/animais_peconhentos_16.csv salvo com sucesso.\n",
      "Arquivo ../data/animais_peconhentos_17.csv salvo com sucesso.\n",
      "Arquivo ../data/animais_peconhentos_18.csv salvo com sucesso.\n",
      "Arquivo ../data/animais_peconhentos_19.csv salvo com sucesso.\n",
      "Arquivo ../data/animais_peconhentos_20.csv salvo com sucesso.\n",
      "Arquivo ../data/animais_peconhentos_21.csv salvo com sucesso.\n",
      "Arquivo ../data/animais_peconhentos_22.csv salvo com sucesso.\n",
      "Arquivo ../data/animais_peconhentos_23.csv salvo com sucesso.\n"
     ]
    }
   ],
   "source": [
    "import os\n",
    "\n",
    "# Caminho para a pasta 'data' \n",
    "data_dir = os.path.join(os.pardir, \"data\")\n",
    "\n",
    "# Criar a pasta 'data' se não existir\n",
    "os.makedirs(data_dir, exist_ok=True)\n",
    "\n",
    "# Iterar pelos arquivos de cada ano e salvar como CSV\n",
    "for file in files:\n",
    "    \n",
    "    # Extrair o ano do nome do arquivo\n",
    "    filename = file.name  # Pegar o nome do arquivo\n",
    "    year = ''.join(filter(str.isdigit, filename))  # Extrair o ano do nome \n",
    "    \n",
    "    # Definir o caminho do arquivo CSV dentro da pasta 'data'\n",
    "    csv_filename = os.path.join(data_dir, f\"animais_peconhentos_{year}.csv\")\n",
    "    \n",
    "    # Verificar se o arquivo já existe\n",
    "    if not os.path.exists(csv_filename):\n",
    "        # Se não existe, baixar o ParquetSet para o arquivo específico\n",
    "        parquet_set = file.download()\n",
    "        df = parquet_set.to_dataframe()  # Converter o ParquetSet inteiro para DataFrame\n",
    "        \n",
    "        # Salvar o DataFrame como um arquivo CSV dentro da pasta 'data'\n",
    "        df.to_csv(csv_filename, index=False)\n",
    "        print(f\"Arquivo {csv_filename} salvo com sucesso.\")\n",
    "    else:\n",
    "        print(f\"Arquivo {csv_filename} já existe. Pulando o salvamento.\")"
   ]
  }
 ],
 "metadata": {
  "kernelspec": {
   "display_name": "venv",
   "language": "python",
   "name": "python3"
  },
  "language_info": {
   "codemirror_mode": {
    "name": "ipython",
    "version": 3
   },
   "file_extension": ".py",
   "mimetype": "text/x-python",
   "name": "python",
   "nbconvert_exporter": "python",
   "pygments_lexer": "ipython3",
   "version": "3.12.3"
  }
 },
 "nbformat": 4,
 "nbformat_minor": 2
}
